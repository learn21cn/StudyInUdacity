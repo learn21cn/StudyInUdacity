{
 "cells": [
  {
   "cell_type": "markdown",
   "metadata": {},
   "source": [
    "## 使用unicodecsv读取文件"
   ]
  },
  {
   "cell_type": "code",
   "execution_count": 1,
   "metadata": {},
   "outputs": [],
   "source": [
    "import unicodecsv\n",
    "\n",
    "def read_csv(file_name):\n",
    "    with open(file_name, 'rb') as f:\n",
    "        reader = unicodecsv.DictReader(f)\n",
    "        return list(reader)\n",
    "    "
   ]
  },
  {
   "cell_type": "code",
   "execution_count": 2,
   "metadata": {},
   "outputs": [],
   "source": [
    "engagement_filename = '../DataMaterials/daily-engagement.csv'\n",
    "submissions_filename = '../DataMaterials/project-submissions.csv'\n",
    "\n",
    "daily_engagement = read_csv(engagement_filename)     # Replace this with your code\n",
    "project_submissions = read_csv(submissions_filename)  # Replace this with your code\n"
   ]
  },
  {
   "cell_type": "code",
   "execution_count": 3,
   "metadata": {},
   "outputs": [],
   "source": [
    "def max_employment(countries, employment):\n",
    "    max_country = None\n",
    "    max_employment = 0\n",
    "\n",
    "    for i in range(len(countries)):\n",
    "        country = countries[i]\n",
    "        country_employment = employment[i]\n",
    "\n",
    "        if country_employment > max_employment:\n",
    "            max_country = country\n",
    "            max_employment = country_employment\n",
    "    \n",
    "    return (max_country, max_employment)\n",
    "\n",
    "def max_employment2(countries, employment):\n",
    "    i = employment.argmax()\n",
    "    return (countries[i], employment[i])"
   ]
  },
  {
   "cell_type": "markdown",
   "metadata": {},
   "source": [
    "## 使用numpy求对应最大值以及标准化数据"
   ]
  },
  {
   "cell_type": "code",
   "execution_count": 4,
   "metadata": {},
   "outputs": [],
   "source": [
    "\n",
    "import numpy as np\n",
    "\n",
    "def standardize_data(values):\n",
    "    standardize_values = (values - values.mean()) / values.std()\n",
    "    \n",
    "    return standardize_values"
   ]
  },
  {
   "cell_type": "code",
   "execution_count": 5,
   "metadata": {},
   "outputs": [
    {
     "name": "stdout",
     "output_type": "stream",
     "text": [
      "('Angola', 75.69999695)\n",
      "[-0.31965231 -0.780123   -0.87650077  1.82207181 -0.03051941 -1.99019768\n",
      "  0.30144772 -0.16973184  0.23719615  0.84758731  0.18365304  1.00821665\n",
      "  0.87971351 -0.56595055 -1.07996476 -0.20185762  1.38301845 -0.03051941\n",
      "  1.2545153  -1.87240259]\n"
     ]
    }
   ],
   "source": [
    "countries = np.array([\n",
    "    'Afghanistan', 'Albania', 'Algeria', 'Angola', 'Argentina',\n",
    "    'Armenia', 'Australia', 'Austria', 'Azerbaijan', 'Bahamas',\n",
    "    'Bahrain', 'Bangladesh', 'Barbados', 'Belarus', 'Belgium',\n",
    "    'Belize', 'Benin', 'Bhutan', 'Bolivia',\n",
    "    'Bosnia and Herzegovina'\n",
    "])\n",
    "\n",
    "# Employment data in 2007 for those 20 countries\n",
    "employment = np.array([\n",
    "    55.70000076,  51.40000153,  50.5       ,  75.69999695,\n",
    "    58.40000153,  40.09999847,  61.5       ,  57.09999847,\n",
    "    60.90000153,  66.59999847,  60.40000153,  68.09999847,\n",
    "    66.90000153,  53.40000153,  48.59999847,  56.79999924,\n",
    "    71.59999847,  58.40000153,  70.40000153,  41.20000076\n",
    "])\n",
    "\n",
    "# 注意上面的两个数组是对应的\n",
    "print(max_employment2(countries, employment))\n",
    "\n",
    "print(standardize_data(employment))"
   ]
  },
  {
   "cell_type": "markdown",
   "metadata": {},
   "source": [
    "## 使用numpy进行各种测试"
   ]
  },
  {
   "cell_type": "code",
   "execution_count": 6,
   "metadata": {},
   "outputs": [
    {
     "name": "stdout",
     "output_type": "stream",
     "text": [
      "[2 4 4 6]\n",
      "[0 0 2 2]\n",
      "[1 4 3 8]\n",
      "[1. 1. 3. 2.]\n",
      "[ 1  4  3 16]\n"
     ]
    }
   ],
   "source": [
    "a = np.array([1, 2, 3, 4])\n",
    "b = np.array([1, 2, 1, 2])\n",
    "\n",
    "print(a + b)\n",
    "print(a - b)\n",
    "print(a * b)\n",
    "print(a / b)\n",
    "print(a ** b)"
   ]
  },
  {
   "cell_type": "code",
   "execution_count": 7,
   "metadata": {},
   "outputs": [
    {
     "name": "stdout",
     "output_type": "stream",
     "text": [
      "[3 4 5 6]\n",
      "[-1  0  1  2]\n",
      "[2 4 6 8]\n",
      "[0.5 1.  1.5 2. ]\n",
      "[ 1  4  9 16]\n"
     ]
    }
   ],
   "source": [
    "a = np.array([1, 2, 3, 4])\n",
    "b = 2\n",
    "\n",
    "print(a + b)\n",
    "print(a - b)\n",
    "print(a * b)\n",
    "print(a / b)\n",
    "print(a ** b)"
   ]
  },
  {
   "cell_type": "code",
   "execution_count": 8,
   "metadata": {},
   "outputs": [
    {
     "name": "stdout",
     "output_type": "stream",
     "text": [
      "[ True False False False]\n",
      "[ True  True  True False]\n",
      "[False False  True  True]\n",
      "[ True  True False False]\n",
      "[False False False False]\n",
      "[ True  True  True  True]\n",
      "[ True  True False False]\n"
     ]
    }
   ],
   "source": [
    "a = np.array([True, True, False, False])\n",
    "b = np.array([True, False, True, False])\n",
    "\n",
    "print(a & b)\n",
    "print(a | b)\n",
    "print(~a)\n",
    "    \n",
    "print(a & True)\n",
    "print(a & False)\n",
    "    \n",
    "print(a | True)\n",
    "print(a | False)"
   ]
  },
  {
   "cell_type": "code",
   "execution_count": 9,
   "metadata": {},
   "outputs": [
    {
     "name": "stdout",
     "output_type": "stream",
     "text": [
      "[False False False  True  True]\n",
      "[False False  True  True  True]\n",
      "[ True  True False False False]\n",
      "[ True  True  True False False]\n",
      "[False False  True False False]\n",
      "[ True  True False  True  True]\n"
     ]
    }
   ],
   "source": [
    "a = np.array([1, 2, 3, 4, 5])\n",
    "b = np.array([5, 4, 3, 2, 1])\n",
    "    \n",
    "print(a > b)\n",
    "print(a >= b)\n",
    "print(a < b)\n",
    "print(a <= b)\n",
    "print(a == b)\n",
    "print(a != b)"
   ]
  },
  {
   "cell_type": "code",
   "execution_count": 10,
   "metadata": {},
   "outputs": [
    {
     "name": "stdout",
     "output_type": "stream",
     "text": [
      "[False False  True  True]\n",
      "[False  True  True  True]\n",
      "[ True False False False]\n",
      "[ True  True False False]\n",
      "[False  True False False]\n",
      "[ True False  True  True]\n"
     ]
    }
   ],
   "source": [
    "a = np.array([1, 2, 3, 4])\n",
    "b = 2\n",
    "\n",
    "print(a > b)\n",
    "print(a >= b)\n",
    "print(a < b)\n",
    "print(a <= b)\n",
    "print(a == b)\n",
    "print(a != b)"
   ]
  },
  {
   "cell_type": "markdown",
   "metadata": {},
   "source": [
    "## numpy教育完成率的计算"
   ]
  },
  {
   "cell_type": "code",
   "execution_count": 11,
   "metadata": {},
   "outputs": [
    {
     "data": {
      "text/plain": [
       "array([ 96.416025, 102.644275, 101.41129 ,  93.316285, 103.455575,\n",
       "        98.148215, 102.35113 ,  91.77855 ,  92.835475,  89.655755,\n",
       "        99.218715,  98.484275,  94.172835, 117.335125,  98.275645,\n",
       "        33.04039 ,  41.905225,  90.962965,  57.08404 ,  93.06015 ])"
      ]
     },
     "execution_count": 11,
     "metadata": {},
     "output_type": "execute_result"
    }
   ],
   "source": [
    "countries = np.array([\n",
    "       'Algeria', 'Argentina', 'Armenia', 'Aruba', 'Austria','Azerbaijan',\n",
    "       'Bahamas', 'Barbados', 'Belarus', 'Belgium', 'Belize', 'Bolivia',\n",
    "       'Botswana', 'Brunei', 'Bulgaria', 'Burkina Faso', 'Burundi',\n",
    "       'Cambodia', 'Cameroon', 'Cape Verde'\n",
    "])\n",
    "\n",
    "# Female school completion rate in 2007 for those 20 countries\n",
    "female_completion = np.array([\n",
    "    97.35583,  104.62379,  103.02998,   95.14321,  103.69019,\n",
    "    98.49185,  100.88828,   95.43974,   92.11484,   91.54804,\n",
    "    95.98029,   98.22902,   96.12179,  119.28105,   97.84627,\n",
    "    29.07386,   38.41644,   90.70509,   51.7478 ,   95.45072\n",
    "])\n",
    "\n",
    "# Male school completion rate in 2007 for those 20 countries\n",
    "male_completion = np.array([\n",
    "     95.47622,  100.66476,   99.7926 ,   91.48936,  103.22096,\n",
    "     97.80458,  103.81398,   88.11736,   93.55611,   87.76347,\n",
    "    102.45714,   98.73953,   92.22388,  115.3892 ,   98.70502,\n",
    "     37.00692,   45.39401,   91.22084,   62.42028,   90.66958\n",
    "])\n",
    "\n",
    "def overall_completion_rate(female_completion, male_completion):\n",
    "    '''\n",
    "    Fill in this function to return a NumPy array containing the overall\n",
    "    school completion rate for each country. The arguments are NumPy\n",
    "    arrays giving the female and male completion of each country in\n",
    "    the same order.\n",
    "    '''\n",
    "    return (female_completion + male_completion) / 2\n",
    "\n",
    "overall_completion_rate(female_completion, male_completion)"
   ]
  },
  {
   "cell_type": "markdown",
   "metadata": {},
   "source": [
    "## 关于numpy的索引数组"
   ]
  },
  {
   "cell_type": "code",
   "execution_count": 12,
   "metadata": {},
   "outputs": [
    {
     "name": "stdout",
     "output_type": "stream",
     "text": [
      "[1 2]\n",
      "[1 3]\n"
     ]
    }
   ],
   "source": [
    "a = np.array([1, 2, 3, 4])\n",
    "b = np.array([True, True, False, False])\n",
    "    \n",
    "print(a[b])\n",
    "print(a[np.array([True, False, True, False])])"
   ]
  },
  {
   "cell_type": "code",
   "execution_count": 13,
   "metadata": {},
   "outputs": [
    {
     "name": "stdout",
     "output_type": "stream",
     "text": [
      "[2 3 2]\n",
      "[2 3 2]\n"
     ]
    }
   ],
   "source": [
    "# 进一步演化\n",
    "a = np.array([1, 2, 3, 2, 1])\n",
    "b = (a >= 2)\n",
    "    \n",
    "print(a[b])\n",
    "print(a[a >= 2])"
   ]
  },
  {
   "cell_type": "code",
   "execution_count": 14,
   "metadata": {},
   "outputs": [
    {
     "name": "stdout",
     "output_type": "stream",
     "text": [
      "[False  True False  True False]\n",
      "[2 4]\n"
     ]
    }
   ],
   "source": [
    "a = np.array([1, 2, 3, 4, 5])\n",
    "b = np.array([1, 2, 3, 2, 1])\n",
    "    \n",
    "print(b == 2)\n",
    "print(a[b == 2])"
   ]
  },
  {
   "cell_type": "code",
   "execution_count": 15,
   "metadata": {},
   "outputs": [
    {
     "data": {
      "text/plain": [
       "41.05400348545454"
      ]
     },
     "execution_count": 15,
     "metadata": {},
     "output_type": "execute_result"
    }
   ],
   "source": [
    "def mean_time_for_paid_students(time_spent, days_to_cancel):\n",
    "    '''\n",
    "    Fill in this function to calculate the mean time spent in the classroom\n",
    "    for students who stayed enrolled at least (greater than or equal to) 7 days.\n",
    "    Unlike in Lesson 1, you can assume that days_to_cancel will contain only\n",
    "    integers (there are no students who have not canceled yet).\n",
    "    \n",
    "    The arguments are NumPy arrays. time_spent contains the amount of time spent\n",
    "    in the classroom for each student, and days_to_cancel contains the number\n",
    "    of days until each student cancel. The data is given in the same order\n",
    "    in both arrays.\n",
    "    '''\n",
    "    return time_spent[days_to_cancel >=7].mean()\n",
    "\n",
    "# Time spent in the classroom in the first week for 20 students\n",
    "time_spent = np.array([\n",
    "       12.89697233,    0.        ,   64.55043217,    0.        ,\n",
    "       24.2315615 ,   39.991625  ,    0.        ,    0.        ,\n",
    "      147.20683783,    0.        ,    0.        ,    0.        ,\n",
    "       45.18261617,  157.60454283,  133.2434615 ,   52.85000767,\n",
    "        0.        ,   54.9204785 ,   26.78142417,    0.\n",
    "])\n",
    "\n",
    "# Days to cancel for 20 students\n",
    "days_to_cancel = np.array([\n",
    "      4,   5,  37,   3,  12,   4,  35,  38,   5,  37,   3,   3,  68,\n",
    "     38,  98,   2, 249,   2, 127,  35\n",
    "])\n",
    "\n",
    "mean_time_for_paid_students(time_spent, days_to_cancel)"
   ]
  },
  {
   "cell_type": "markdown",
   "metadata": {},
   "source": [
    "## 值得注意的问题"
   ]
  },
  {
   "cell_type": "code",
   "execution_count": 16,
   "metadata": {},
   "outputs": [
    {
     "name": "stdout",
     "output_type": "stream",
     "text": [
      "[2 3 4 5]\n"
     ]
    }
   ],
   "source": [
    "a = np.array([1, 2, 3, 4])\n",
    "b = a\n",
    "a += np.array([1, 1, 1, 1])\n",
    "# 这里变了\n",
    "print(b)"
   ]
  },
  {
   "cell_type": "code",
   "execution_count": 17,
   "metadata": {},
   "outputs": [
    {
     "name": "stdout",
     "output_type": "stream",
     "text": [
      "[1 2 3 4]\n"
     ]
    }
   ],
   "source": [
    "a = np.array([1, 2, 3, 4])\n",
    "b = a\n",
    "a = a + np.array([1, 1, 1, 1])\n",
    "# 这里没变\n",
    "print(b)"
   ]
  },
  {
   "cell_type": "code",
   "execution_count": 18,
   "metadata": {},
   "outputs": [
    {
     "name": "stdout",
     "output_type": "stream",
     "text": [
      "[6 2 3 4 5]\n"
     ]
    }
   ],
   "source": [
    "a = np.array([1, 2, 3, 4, 5])\n",
    "slice = a[:3] \n",
    "slice[0] = 6\n",
    "# 这里变了\n",
    "print(a)"
   ]
  },
  {
   "cell_type": "code",
   "execution_count": 19,
   "metadata": {},
   "outputs": [
    {
     "name": "stdout",
     "output_type": "stream",
     "text": [
      "[1, 2, 3, 4, 5]\n"
     ]
    }
   ],
   "source": [
    "a = [1, 2, 3, 4, 5]\n",
    "slice = a[:3] \n",
    "slice[0] = 6\n",
    "# 不使用numpy，这里没变\n",
    "print(a)"
   ]
  },
  {
   "cell_type": "markdown",
   "metadata": {},
   "source": [
    "## 使用pandas读取文件"
   ]
  },
  {
   "cell_type": "code",
   "execution_count": 20,
   "metadata": {},
   "outputs": [
    {
     "data": {
      "text/plain": [
       "1237"
      ]
     },
     "execution_count": 20,
     "metadata": {},
     "output_type": "execute_result"
    }
   ],
   "source": [
    "import pandas as pd\n",
    "engagement_filename = '../DataMaterials/daily-engagement.csv'\n",
    "daily_engagement = pd.read_csv(engagement_filename)\n",
    "\n",
    "len(daily_engagement['acct'].unique())"
   ]
  },
  {
   "cell_type": "markdown",
   "metadata": {},
   "source": [
    "## 相关性的计算"
   ]
  },
  {
   "cell_type": "code",
   "execution_count": 21,
   "metadata": {},
   "outputs": [],
   "source": [
    "def variable_correlation(variable1, variable2):\n",
    "    both_above = (variable1 > variable1.mean()) & (variable2 > variable2.mean())\n",
    "    both_below = (variable1 < variable1.mean()) & (variable2 < variable2.mean())\n",
    "\n",
    "    is_same_direction = both_above | both_below\n",
    "    num_same_direction = is_same_direction.sum()\n",
    "    num_different_direction = len(variable1) - num_same_direction\n",
    "\n",
    "    return (num_same_direction, num_different_direction)\n",
    "\n",
    "countries = ['Albania', 'Algeria', 'Andorra', 'Angola', 'Antigua and Barbuda',\n",
    "             'Argentina', 'Armenia', 'Australia', 'Austria', 'Azerbaijan',\n",
    "             'Bahamas', 'Bahrain', 'Bangladesh', 'Barbados', 'Belarus',\n",
    "             'Belgium', 'Belize', 'Benin', 'Bhutan', 'Bolivia']\n",
    "\n",
    "life_expectancy_values = [74.7,  75. ,  83.4,  57.6,  74.6,  75.4,  72.3,  81.5,  80.2,\n",
    "                          70.3,  72.1,  76.4,  68.1,  75.2,  69.8,  79.4,  70.8,  62.7,\n",
    "                          67.3,  70.6]\n",
    "\n",
    "gdp_values = [ 1681.61390973,   2155.48523109,  21495.80508273,    562.98768478,\n",
    "              13495.1274663 ,   9388.68852258,   1424.19056199,  24765.54890176,\n",
    "              27036.48733192,   1945.63754911,  21721.61840978,  13373.21993972,\n",
    "                483.97086804,   9783.98417323,   2253.46411147,  25034.66692293,\n",
    "               3680.91642923,    366.04496652,   1175.92638695,   1132.21387981]\n",
    "\n",
    "# Life expectancy and gdp data in 2007 for 20 countries\n",
    "life_expectancy = pd.Series(life_expectancy_values)\n",
    "gdp = pd.Series(gdp_values)"
   ]
  },
  {
   "cell_type": "code",
   "execution_count": 22,
   "metadata": {},
   "outputs": [
    {
     "name": "stdout",
     "output_type": "stream",
     "text": [
      "74.7\n",
      "3      562.987685\n",
      "4    13495.127466\n",
      "5     9388.688523\n",
      "dtype: float64\n",
      "Examining life expectancy 74.7\n",
      "Examining life expectancy 75.0\n",
      "Examining life expectancy 83.4\n",
      "Examining life expectancy 57.6\n",
      "Examining life expectancy 74.6\n",
      "Examining life expectancy 75.4\n",
      "Examining life expectancy 72.3\n",
      "Examining life expectancy 81.5\n",
      "Examining life expectancy 80.2\n",
      "Examining life expectancy 70.3\n",
      "Examining life expectancy 72.1\n",
      "Examining life expectancy 76.4\n",
      "Examining life expectancy 68.1\n",
      "Examining life expectancy 75.2\n",
      "Examining life expectancy 69.8\n",
      "Examining life expectancy 79.4\n",
      "Examining life expectancy 70.8\n",
      "Examining life expectancy 62.7\n",
      "Examining life expectancy 67.3\n",
      "Examining life expectancy 70.6\n",
      "72.86999999999999\n",
      "6.213999474869968\n",
      "27036.48733192\n",
      "182957.59832967006\n",
      "(17, 3)\n"
     ]
    }
   ],
   "source": [
    "print(life_expectancy[0])\n",
    "print(gdp[3:6])\n",
    "\n",
    "for country_life_expectancy in life_expectancy:\n",
    "    print('Examining life expectancy {}'.format(country_life_expectancy))\n",
    "\n",
    "print(life_expectancy.mean())\n",
    "print(life_expectancy.std())\n",
    "print(gdp.max())\n",
    "print(gdp.sum())\n",
    "\n",
    "print(variable_correlation(life_expectancy, gdp))\n"
   ]
  },
  {
   "cell_type": "markdown",
   "metadata": {},
   "source": [
    "## pandas的相关测试"
   ]
  },
  {
   "cell_type": "code",
   "execution_count": 23,
   "metadata": {},
   "outputs": [
    {
     "name": "stdout",
     "output_type": "stream",
     "text": [
      "0    2\n",
      "1    4\n",
      "2    4\n",
      "3    6\n",
      "dtype: int64\n",
      "0    2\n",
      "1    4\n",
      "2    6\n",
      "3    8\n",
      "dtype: int64\n",
      "0    False\n",
      "1    False\n",
      "2     True\n",
      "3     True\n",
      "dtype: bool\n",
      "2    3\n",
      "3    4\n",
      "dtype: int64\n"
     ]
    }
   ],
   "source": [
    "a = pd.Series([1, 2, 3, 4])\n",
    "b = pd.Series([1, 2, 1, 2])\n",
    "  \n",
    "print(a + b)\n",
    "print(a * 2)\n",
    "print(a >= 3)\n",
    "print(a[a >= 3])"
   ]
  },
  {
   "cell_type": "code",
   "execution_count": 24,
   "metadata": {},
   "outputs": [
    {
     "name": "stdout",
     "output_type": "stream",
     "text": [
      "A     1\n",
      "B    15\n",
      "C     2\n",
      "D    21\n",
      "E     5\n",
      "dtype: int64\n"
     ]
    },
    {
     "data": {
      "text/plain": [
       "15"
      ]
     },
     "execution_count": 24,
     "metadata": {},
     "output_type": "execute_result"
    }
   ],
   "source": [
    "a = np.array([1, 2, 3, 4])\n",
    "s = pd.Series([1, 2, 3, 4])\n",
    "\n",
    "s.describe()\n",
    "\n",
    "# pandas 带索引，像列表和字典的集合\n",
    "number = pd.Series([1, 15, 2, 21, 5], index=['A', 'B', 'C', 'D', 'E'])\n",
    "print(number) \n",
    "\n",
    "# 使用索引\n",
    "number.loc['E']\n",
    "# 使用元素的位置\n",
    "number.iloc[1]"
   ]
  },
  {
   "cell_type": "markdown",
   "metadata": {},
   "source": [
    "## 使用pandas计算对应数组最大值"
   ]
  },
  {
   "cell_type": "code",
   "execution_count": 25,
   "metadata": {},
   "outputs": [
    {
     "data": {
      "text/plain": [
       "('Angola', 75.69999695)"
      ]
     },
     "execution_count": 25,
     "metadata": {},
     "output_type": "execute_result"
    }
   ],
   "source": [
    "def max_employment(employment):\n",
    "    # max_country = employment.argmax()\n",
    "    max_country = employment.idxmax()\n",
    "    max_value = employment.loc[max_country]\n",
    "    return (max_country, max_value)\n",
    "\n",
    "countries = [\n",
    "    'Afghanistan', 'Albania', 'Algeria', 'Angola',\n",
    "    'Argentina', 'Armenia', 'Australia', 'Austria',\n",
    "    'Azerbaijan', 'Bahamas', 'Bahrain', 'Bangladesh',\n",
    "    'Barbados', 'Belarus', 'Belgium', 'Belize',\n",
    "    'Benin', 'Bhutan', 'Bolivia', 'Bosnia and Herzegovina',\n",
    "]\n",
    "employment_values = [\n",
    "    55.70000076,  51.40000153,  50.5       ,  75.69999695,\n",
    "    58.40000153,  40.09999847,  61.5       ,  57.09999847,\n",
    "    60.90000153,  66.59999847,  60.40000153,  68.09999847,\n",
    "    66.90000153,  53.40000153,  48.59999847,  56.79999924,\n",
    "    71.59999847,  58.40000153,  70.40000153,  41.20000076,\n",
    "]\n",
    "\n",
    "employment = pd.Series(employment_values, index=countries)\n",
    "max_employment(employment)"
   ]
  },
  {
   "cell_type": "markdown",
   "metadata": {},
   "source": [
    "## pandas索引相关"
   ]
  },
  {
   "cell_type": "code",
   "execution_count": 26,
   "metadata": {},
   "outputs": [
    {
     "name": "stdout",
     "output_type": "stream",
     "text": [
      "a    11\n",
      "b    22\n",
      "c    33\n",
      "d    44\n",
      "dtype: int64\n"
     ]
    }
   ],
   "source": [
    "s1 = pd.Series([1, 2, 3, 4], index=['a', 'b', 'c', 'd'])\n",
    "s2 = pd.Series([10, 20, 30, 40], index=['a', 'b', 'c', 'd'])\n",
    "print(s1 + s2)"
   ]
  },
  {
   "cell_type": "code",
   "execution_count": 27,
   "metadata": {},
   "outputs": [
    {
     "name": "stdout",
     "output_type": "stream",
     "text": [
      "a    31\n",
      "b    12\n",
      "c    43\n",
      "d    24\n",
      "dtype: int64\n"
     ]
    }
   ],
   "source": [
    "s1 = pd.Series([1, 2, 3, 4], index=['a', 'b', 'c', 'd'])\n",
    "s2 = pd.Series([10, 20, 30, 40], index=['b', 'd', 'a', 'c'])\n",
    "print(s1 + s2)"
   ]
  },
  {
   "cell_type": "code",
   "execution_count": 28,
   "metadata": {},
   "outputs": [
    {
     "name": "stdout",
     "output_type": "stream",
     "text": [
      "a     NaN\n",
      "b     NaN\n",
      "c    13.0\n",
      "d    24.0\n",
      "e     NaN\n",
      "f     NaN\n",
      "dtype: float64\n"
     ]
    }
   ],
   "source": [
    "s1 = pd.Series([1, 2, 3, 4], index=['a', 'b', 'c', 'd'])\n",
    "s2 = pd.Series([10, 20, 30, 40], index=['c', 'd', 'e', 'f'])\n",
    "print(s1 + s2)"
   ]
  },
  {
   "cell_type": "code",
   "execution_count": 29,
   "metadata": {},
   "outputs": [
    {
     "name": "stdout",
     "output_type": "stream",
     "text": [
      "a   NaN\n",
      "b   NaN\n",
      "c   NaN\n",
      "d   NaN\n",
      "e   NaN\n",
      "f   NaN\n",
      "g   NaN\n",
      "h   NaN\n",
      "dtype: float64\n",
      "Series([], dtype: float64)\n"
     ]
    }
   ],
   "source": [
    "s1 = pd.Series([1, 2, 3, 4], index=['a', 'b', 'c', 'd'])\n",
    "s2 = pd.Series([10, 20, 30, 40], index=['e', 'f', 'g', 'h'])\n",
    "print(s1 + s2)\n",
    "print((s1 + s2).dropna())    "
   ]
  },
  {
   "cell_type": "code",
   "execution_count": 30,
   "metadata": {},
   "outputs": [
    {
     "name": "stdout",
     "output_type": "stream",
     "text": [
      "a     1.0\n",
      "b     2.0\n",
      "c     3.0\n",
      "d     4.0\n",
      "e    10.0\n",
      "f    20.0\n",
      "g    30.0\n",
      "h    40.0\n",
      "dtype: float64\n"
     ]
    }
   ],
   "source": [
    "s = s1.add(s2, fill_value=0)\n",
    "print(s)"
   ]
  },
  {
   "cell_type": "markdown",
   "metadata": {},
   "source": [
    "## apply函数"
   ]
  },
  {
   "cell_type": "code",
   "execution_count": 31,
   "metadata": {},
   "outputs": [
    {
     "name": "stdout",
     "output_type": "stream",
     "text": [
      "0    2\n",
      "1    3\n",
      "2    4\n",
      "3    5\n",
      "4    6\n",
      "dtype: int64\n"
     ]
    }
   ],
   "source": [
    "s = pd.Series([1, 2, 3, 4, 5])\n",
    "def add_one(x):\n",
    "    return x + 1\n",
    "\n",
    "print(s.apply(add_one))"
   ]
  },
  {
   "cell_type": "code",
   "execution_count": 32,
   "metadata": {},
   "outputs": [
    {
     "data": {
      "text/plain": [
       "0             Agassi, Andre\n",
       "1              Bonds, Barry\n",
       "2     Columbus, Christopher\n",
       "3             Defoe, Daniel\n",
       "4           Estevez, Emilio\n",
       "5          Flintstone, Fred\n",
       "6              Garbo, Greta\n",
       "7          Humbert, Humbert\n",
       "8               Ilych, Ivan\n",
       "9              Joyce, James\n",
       "10         Knightley, Keira\n",
       "11               Lane, Lois\n",
       "12              Myers, Mike\n",
       "13              Nolte, Nick\n",
       "14           Osbourne, Ozzy\n",
       "15           Picasso, Pablo\n",
       "16       Quirrell, Quirinus\n",
       "17             Ray, Rachael\n",
       "18          Sarandon, Susan\n",
       "19             Turner, Tina\n",
       "20           Urbina, Ugueth\n",
       "21            Vaughn, Vince\n",
       "22          Wilson, Woodrow\n",
       "23             Yamada, Yoji\n",
       "24         Zidane, Zinedine\n",
       "dtype: object"
      ]
     },
     "execution_count": 32,
     "metadata": {},
     "output_type": "execute_result"
    }
   ],
   "source": [
    "names = pd.Series([\n",
    "    'Andre Agassi',\n",
    "    'Barry Bonds',\n",
    "    'Christopher Columbus',\n",
    "    'Daniel Defoe',\n",
    "    'Emilio Estevez',\n",
    "    'Fred Flintstone',\n",
    "    'Greta Garbo',\n",
    "    'Humbert Humbert',\n",
    "    'Ivan Ilych',\n",
    "    'James Joyce',\n",
    "    'Keira Knightley',\n",
    "    'Lois Lane',\n",
    "    'Mike Myers',\n",
    "    'Nick Nolte',\n",
    "    'Ozzy Osbourne',\n",
    "    'Pablo Picasso',\n",
    "    'Quirinus Quirrell',\n",
    "    'Rachael Ray',\n",
    "    'Susan Sarandon',\n",
    "    'Tina Turner',\n",
    "    'Ugueth Urbina',\n",
    "    'Vince Vaughn',\n",
    "    'Woodrow Wilson',\n",
    "    'Yoji Yamada',\n",
    "    'Zinedine Zidane'\n",
    "])\n",
    "\n",
    "def reverse_name(name):\n",
    "    split_name = name.split(\" \")\n",
    "    first_name = split_name[0]\n",
    "    last_name = split_name[1]\n",
    "    return last_name + ', ' + first_name\n",
    "    \n",
    "def reverse_names(names):\n",
    "    '''\n",
    "    Fill in this function to return a new series where each name\n",
    "    in the input series has been transformed from the format\n",
    "    \"Firstname Lastname\" to \"Lastname, FirstName\".\n",
    "    \n",
    "    Try to use the Pandas apply() function rather than a loop.\n",
    "    '''\n",
    "    return names.apply(reverse_name)\n",
    "\n",
    "reverse_names(names)"
   ]
  },
  {
   "cell_type": "markdown",
   "metadata": {},
   "source": [
    "## pandas绘图"
   ]
  },
  {
   "cell_type": "code",
   "execution_count": 40,
   "metadata": {},
   "outputs": [
    {
     "name": "stdout",
     "output_type": "stream",
     "text": [
      "Populating the interactive namespace from numpy and matplotlib\n"
     ]
    },
    {
     "data": {
      "text/plain": [
       "<matplotlib.axes._subplots.AxesSubplot at 0x24e9c8b1b70>"
      ]
     },
     "execution_count": 40,
     "metadata": {},
     "output_type": "execute_result"
    },
    {
     "data": {
      "image/png": "[encoded data removed]",
      "text/plain": [
       "<matplotlib.figure.Figure at 0x24e9c8b1518>"
      ]
     },
     "metadata": {},
     "output_type": "display_data"
    }
   ],
   "source": [
    "import matplotlib.pyplot as plt\n",
    "import seaborn as sns\n",
    "\n",
    "path = '../DataMaterials/'\n",
    "employment = pd.read_csv(path + 'employment-above-15.csv', index_col='Country')\n",
    "female_completion = pd.read_csv(path + 'female-completion-rate.csv', index_col='Country')\n",
    "male_completion = pd.read_csv(path + 'male-completion-rate.csv', index_col='Country')\n",
    "life_expectancy = pd.read_csv(path + 'life-expectancy.csv', index_col='Country')\n",
    "gdp = pd.read_csv(path + 'gdp-per-capita.csv', index_col='Country')\n",
    "\n",
    "\n",
    "employment_us = employment.loc['United States']\n",
    "female_completion_us = female_completion.loc['United States']\n",
    "male_completion_us = male_completion.loc['United States']\n",
    "life_expectancy_us = life_expectancy.loc['United States']\n",
    "gdp_us = gdp.loc['United States']\n",
    "\n",
    "%pylab inline\n",
    "\n",
    "gdp_us.plot()\n",
    "\n",
    "# female_completion_us.plot()\n",
    "# male_completion_us.plot()\n",
    "# life_expectancy_us.plot()\n",
    "# employment_us.plot()"
   ]
  },
  {
   "cell_type": "code",
   "execution_count": null,
   "metadata": {},
   "outputs": [],
   "source": []
  }
 ],
 "metadata": {
  "kernelspec": {
   "display_name": "Python 3",
   "language": "python",
   "name": "python3"
  },
  "language_info": {
   "codemirror_mode": {
    "name": "ipython",
    "version": 3
   },
   "file_extension": ".py",
   "mimetype": "text/x-python",
   "name": "python",
   "nbconvert_exporter": "python",
   "pygments_lexer": "ipython3",
   "version": "3.6.4"
  }
 },
 "nbformat": 4,
 "nbformat_minor": 2
}
