{
 "cells": [
  {
   "cell_type": "markdown",
   "metadata": {},
   "source": [
    "## 分析的问题"
   ]
  },
  {
   "cell_type": "markdown",
   "metadata": {},
   "source": [
    "本文试图对“棒球赛数据集”进行分析，并提出以下问题：  \n",
    "1、团队的年度排名和哪些指标明显相关？  \n",
    "2、棒球队员的工资平均水平呈现一个怎样的年度增长趋势？  \n",
    "3、工资水平高的队员在一些具体的衡量指标上是否表现的更加突出？\n"
   ]
  },
  {
   "cell_type": "markdown",
   "metadata": {},
   "source": [
    "## 读取文件"
   ]
  },
  {
   "cell_type": "markdown",
   "metadata": {},
   "source": [
    "具体的数据集可以从<a id='the_destination' href=http://www.seanlahman.com/baseball-archive/statistics/>此处网站</a>下载，本文用到的文件主要有三个：Salaries.csv、Teams.csv以及Batting.csv。  \n",
    "下面的代码使用pandas读取本地的文件。运行时请注意修改为文件所在的本地路径。"
   ]
  },
  {
   "cell_type": "code",
   "execution_count": 98,
   "metadata": {},
   "outputs": [],
   "source": [
    "import pandas as pd\n",
    "\n",
    "# 文件路径，运行时请注意修改为文件所在的路径。\n",
    "salaries_file = '../../../Data/baseballdatabank-2017.1/core/Salaries.csv'\n",
    "teams_file = '../../../Data/baseballdatabank-2017.1/core/Teams.csv'\n",
    "batting_file = '../../../Data/baseballdatabank-2017.1/core/Batting.csv'\n",
    "\n",
    "# 读取文件\n",
    "salaries_df = pd.read_csv(salaries_file)\n",
    "teams_df = pd.read_csv(teams_file)\n",
    "batting_df = pd.read_csv(batting_file)"
   ]
  },
  {
   "cell_type": "markdown",
   "metadata": {},
   "source": [
    "## 团队数据相关指标分析"
   ]
  },
  {
   "cell_type": "markdown",
   "metadata": {},
   "source": [
    "本部分通过相关系数的计算来分析团队的年度排名和哪些指标具有相关性。所使用的数据为Teams.csv文件。  \n",
    "首先，我们来定义一个通用的函数来计算相关系数。"
   ]
  },
  {
   "cell_type": "code",
   "execution_count": 99,
   "metadata": {},
   "outputs": [],
   "source": [
    "def correlation(x, y):\n",
    "    '''\n",
    "    用于相关系数的计算\n",
    "    '''\n",
    "    std_x = (x - x.mean()) / x.std(ddof=0)\n",
    "    std_y = (y - y.mean()) / y.std(ddof=0)\n",
    "    return (std_x * std_y).mean()"
   ]
  },
  {
   "cell_type": "markdown",
   "metadata": {},
   "source": [
    "之后，我们需要对数据进行清洗，此处使用的1969年之后的数据，之前的数据有部分指标为空值。"
   ]
  },
  {
   "cell_type": "code",
   "execution_count": 100,
   "metadata": {},
   "outputs": [],
   "source": [
    "new_teams_df = teams_df[teams_df['yearID'] >= 1969]"
   ]
  },
  {
   "cell_type": "markdown",
   "metadata": {},
   "source": [
    "然后，我们选取了一些关键的指标，并标明了其含义。"
   ]
  },
  {
   "cell_type": "code",
   "execution_count": 101,
   "metadata": {},
   "outputs": [],
   "source": [
    "# 排名 (Rank)\n",
    "rank = new_teams_df['Rank']\n",
    "# 得分 (R)\n",
    "r = new_teams_df['R']\n",
    "# 胜场 (W)\n",
    "w = new_teams_df['W']\n",
    "# 胜率\n",
    "bl = new_teams_df['W'] / new_teams_df['G']\n",
    "# 防御率（ERA）\n",
    "era = new_teams_df['ERA']\n",
    "# 自责分（ER）\n",
    "er = new_teams_df['ER']\n",
    "# 救援点（SV）\n",
    "sv = new_teams_df['SV']\n",
    "# 完投（CG）\n",
    "cg = new_teams_df['CG']\n",
    "# 完封（SHO）\n",
    "sho = new_teams_df['SHO']\n",
    "# 守备失误（E）\n",
    "e = new_teams_df['E']\n",
    "# 防守占比 (FP)\n",
    "fp = new_teams_df['FP']\n",
    "# 打数（AB）\n",
    "ab = new_teams_df['AB']\n",
    "# 安打（H）\n",
    "h = new_teams_df['H']\n",
    "# 全垒打（HR）\n",
    "hr = new_teams_df['HR']\n",
    "# 保送（BB）\n",
    "bb = new_teams_df['BB']\n",
    "# 触身球（HBP）\n",
    "hbp = new_teams_df['HBP']\n",
    "# 牺牲打（SF）\n",
    "sf= new_teams_df['SF']\n"
   ]
  },
  {
   "cell_type": "markdown",
   "metadata": {},
   "source": [
    "接下来是相关系数的计算："
   ]
  },
  {
   "cell_type": "code",
   "execution_count": 102,
   "metadata": {},
   "outputs": [
    {
     "name": "stdout",
     "output_type": "stream",
     "text": [
      "Rank 与 R  的相关系数： -0.4318534802690003\n",
      "Rank 与 W  的相关系数： -0.7713182573344043\n",
      "Rank 与 H  的相关系数： -0.23364062519983916\n",
      "Rank 与 E  的相关系数： 0.3144276499813784\n",
      "Rank 与 AB 的相关系数： -0.03867690637782868\n",
      "Rank 与 HR 的相关系数： -0.32810855124913346\n",
      "Rank 与 BL 的相关系数： -0.855989344992027\n",
      "Rank 与 BB 的相关系数： -0.27967953536298024\n",
      "Rank 与 SF 的相关系数： -0.21456660566958718\n",
      "Rank 与 ER 的相关系数： 0.3266838604571441\n",
      "Rank 与 SV 的相关系数： -0.4498029162659929\n",
      "Rank 与 CG 的相关系数： 0.04678388489262877\n",
      "Rank 与 FP 的相关系数： -0.3417737773284375\n",
      "Rank 与 SHO 的相关系数： -0.3101880706551662\n",
      "Rank 与 HBP 的相关系数： -0.11500112096524762\n",
      "Rank 与 ERA 的相关系数： 0.36361492493634656\n"
     ]
    }
   ],
   "source": [
    "print('Rank 与 R  的相关系数：' , correlation(rank, r))\n",
    "print('Rank 与 W  的相关系数：' , correlation(rank, w))\n",
    "print('Rank 与 H  的相关系数：' ,correlation(rank, h))\n",
    "print('Rank 与 E  的相关系数：' , correlation(rank, e))\n",
    "print('Rank 与 AB 的相关系数：' , correlation(rank, ab))\n",
    "print('Rank 与 HR 的相关系数：' , correlation(rank, hr))\n",
    "print('Rank 与 BL 的相关系数：' , correlation(rank, bl))\n",
    "print('Rank 与 BB 的相关系数：' , correlation(rank, bb))\n",
    "print('Rank 与 SF 的相关系数：' , correlation(rank, sf))\n",
    "print('Rank 与 ER 的相关系数：' , correlation(rank, er))\n",
    "print('Rank 与 SV 的相关系数：' , correlation(rank, sv))\n",
    "print('Rank 与 CG 的相关系数：' , correlation(rank, cg))\n",
    "print('Rank 与 FP 的相关系数：' , correlation(rank, fp))\n",
    "print('Rank 与 SHO 的相关系数：' , correlation(rank, sho))\n",
    "print('Rank 与 HBP 的相关系数：' , correlation(rank, hbp))\n",
    "print('Rank 与 ERA 的相关系数：' , correlation(rank, era))"
   ]
  },
  {
   "cell_type": "markdown",
   "metadata": {},
   "source": [
    "通过上面的计算可以看出，团队的年度排名（Rank）与胜利场数（W）、胜率（BL）具有明显的相关性，这点很好解释，胜率越高，排名自然越靠前。此外，年度排名（Rank）还与得分情况（R）、全垒打（HR）、救援点（SV）、防守占比（FP）、防御率（ERA）等具有一定的相关性。也可以看出，年度排名（Rank）与打数（AB）以及完投（CG）基本上不具有相关性。"
   ]
  },
  {
   "cell_type": "markdown",
   "metadata": {},
   "source": [
    "## 年度平均工资水平"
   ]
  },
  {
   "cell_type": "markdown",
   "metadata": {},
   "source": [
    "本部分分析球员的年度平均工资水平，所使用的数据为Salaries.csv文件。该文件的数据较为完整，不需要我们进行额外的清洗。我们先对数据按年进行分组，之后对每个分组计算工资的均值，并给出对应的的一般性统计。"
   ]
  },
  {
   "cell_type": "code",
   "execution_count": 103,
   "metadata": {},
   "outputs": [
    {
     "data": {
      "text/html": [
       "<div>\n",
       "<style scoped>\n",
       "    .dataframe tbody tr th:only-of-type {\n",
       "        vertical-align: middle;\n",
       "    }\n",
       "\n",
       "    .dataframe tbody tr th {\n",
       "        vertical-align: top;\n",
       "    }\n",
       "\n",
       "    .dataframe thead th {\n",
       "        text-align: right;\n",
       "    }\n",
       "</style>\n",
       "<table border=\"1\" class=\"dataframe\">\n",
       "  <thead>\n",
       "    <tr style=\"text-align: right;\">\n",
       "      <th></th>\n",
       "      <th>salary</th>\n",
       "    </tr>\n",
       "    <tr>\n",
       "      <th>yearID</th>\n",
       "      <th></th>\n",
       "    </tr>\n",
       "  </thead>\n",
       "  <tbody>\n",
       "    <tr>\n",
       "      <th>1985</th>\n",
       "      <td>476299.447273</td>\n",
       "    </tr>\n",
       "    <tr>\n",
       "      <th>1986</th>\n",
       "      <td>417147.043360</td>\n",
       "    </tr>\n",
       "    <tr>\n",
       "      <th>1987</th>\n",
       "      <td>434729.465710</td>\n",
       "    </tr>\n",
       "    <tr>\n",
       "      <th>1988</th>\n",
       "      <td>453171.076923</td>\n",
       "    </tr>\n",
       "    <tr>\n",
       "      <th>1989</th>\n",
       "      <td>506323.081575</td>\n",
       "    </tr>\n",
       "  </tbody>\n",
       "</table>\n",
       "</div>"
      ],
      "text/plain": [
       "               salary\n",
       "yearID               \n",
       "1985    476299.447273\n",
       "1986    417147.043360\n",
       "1987    434729.465710\n",
       "1988    453171.076923\n",
       "1989    506323.081575"
      ]
     },
     "execution_count": 103,
     "metadata": {},
     "output_type": "execute_result"
    }
   ],
   "source": [
    "# 按年分组\n",
    "grouped_data_by_year = salaries_df.groupby(['yearID'])\n",
    "# 计算工资均值\n",
    "mean_salaries_df_by_year = grouped_data_by_year.mean()\n",
    "mean_salaries_df_by_year.head()"
   ]
  },
  {
   "cell_type": "code",
   "execution_count": 104,
   "metadata": {},
   "outputs": [
    {
     "data": {
      "text/html": [
       "<div>\n",
       "<style scoped>\n",
       "    .dataframe tbody tr th:only-of-type {\n",
       "        vertical-align: middle;\n",
       "    }\n",
       "\n",
       "    .dataframe tbody tr th {\n",
       "        vertical-align: top;\n",
       "    }\n",
       "\n",
       "    .dataframe thead th {\n",
       "        text-align: right;\n",
       "    }\n",
       "</style>\n",
       "<table border=\"1\" class=\"dataframe\">\n",
       "  <thead>\n",
       "    <tr style=\"text-align: right;\">\n",
       "      <th></th>\n",
       "      <th>salary</th>\n",
       "    </tr>\n",
       "  </thead>\n",
       "  <tbody>\n",
       "    <tr>\n",
       "      <th>count</th>\n",
       "      <td>3.200000e+01</td>\n",
       "    </tr>\n",
       "    <tr>\n",
       "      <th>mean</th>\n",
       "      <td>2.054952e+06</td>\n",
       "    </tr>\n",
       "    <tr>\n",
       "      <th>std</th>\n",
       "      <td>1.278222e+06</td>\n",
       "    </tr>\n",
       "    <tr>\n",
       "      <th>min</th>\n",
       "      <td>4.171470e+05</td>\n",
       "    </tr>\n",
       "    <tr>\n",
       "      <th>25%</th>\n",
       "      <td>9.739697e+05</td>\n",
       "    </tr>\n",
       "    <tr>\n",
       "      <th>50%</th>\n",
       "      <td>2.136413e+06</td>\n",
       "    </tr>\n",
       "    <tr>\n",
       "      <th>75%</th>\n",
       "      <td>3.171800e+06</td>\n",
       "    </tr>\n",
       "    <tr>\n",
       "      <th>max</th>\n",
       "      <td>4.396410e+06</td>\n",
       "    </tr>\n",
       "  </tbody>\n",
       "</table>\n",
       "</div>"
      ],
      "text/plain": [
       "             salary\n",
       "count  3.200000e+01\n",
       "mean   2.054952e+06\n",
       "std    1.278222e+06\n",
       "min    4.171470e+05\n",
       "25%    9.739697e+05\n",
       "50%    2.136413e+06\n",
       "75%    3.171800e+06\n",
       "max    4.396410e+06"
      ]
     },
     "execution_count": 104,
     "metadata": {},
     "output_type": "execute_result"
    }
   ],
   "source": [
    "# 一般描述统计\n",
    "mean_salaries_df_by_year.describe()"
   ]
  },
  {
   "cell_type": "markdown",
   "metadata": {},
   "source": [
    "为了更好的观察，我们将年度工资平均水平绘制为图形。"
   ]
  },
  {
   "cell_type": "code",
   "execution_count": 122,
   "metadata": {},
   "outputs": [
    {
     "name": "stdout",
     "output_type": "stream",
     "text": [
      "Populating the interactive namespace from numpy and matplotlib\n"
     ]
    },
    {
     "data": {
      "text/plain": [
       "<matplotlib.axes._subplots.AxesSubplot at 0x1ae31d1eba8>"
      ]
     },
     "execution_count": 122,
     "metadata": {},
     "output_type": "execute_result"
    },
    {
     "data": {
      "image/png": "[encoded data removed]",
      "text/plain": [
       "<matplotlib.figure.Figure at 0x1ae31d2b780>"
      ]
     },
     "metadata": {},
     "output_type": "display_data"
    }
   ],
   "source": [
    "import numpy as np\n",
    "import matplotlib.pyplot as plt\n",
    "import seaborn as sns\n",
    "\n",
    "%pylab inline\n",
    "mean_salaries_df_by_year.plot()"
   ]
  },
  {
   "cell_type": "markdown",
   "metadata": {},
   "source": [
    "由上图可以看出，球员的工资水平按年呈现一个日益增长的趋势。"
   ]
  },
  {
   "cell_type": "markdown",
   "metadata": {},
   "source": [
    "## 不同工资水平球员指标对比"
   ]
  },
  {
   "cell_type": "markdown",
   "metadata": {},
   "source": [
    "本部分用来分析不同工资水平的棒球球员的一些关键衡量指标。用到的文件为 Batting.csv与Salaries.csv。  \n",
    "如上所述，球员的工资水平随着年度呈现一个日益增长的趋势，由于时间因素的存在，衡量不同年度的工资水平意义不大。因此，我们需要在同一个年度内对工资水平进行划分，以比较同一年度内不同工资水平的球员。  \n",
    "我们先来定义两个函数用来划分工资水平，如下："
   ]
  },
  {
   "cell_type": "code",
   "execution_count": 106,
   "metadata": {},
   "outputs": [],
   "source": [
    "# 用于series\n",
    "def pct_rank_qcut(series, n):\n",
    "    edges = pd.Series([float(i) / n for i in range(n + 1)])\n",
    "    f = lambda x: (edges >= x).values.argmax()\n",
    "    return series.rank(pct=1).apply(f)\n",
    "\n",
    "# 用于DataFrame\n",
    "def new_pct_rank_qcut(df, n):\n",
    "    edges = pd.Series([float(i) / n for i in range(n + 1)])\n",
    "    f = lambda x: (edges >= x).values.argmax()\n",
    "    df['levelName'] = df['salary'].rank(pct=1).apply(f)\n",
    "    return df"
   ]
  },
  {
   "cell_type": "markdown",
   "metadata": {},
   "source": [
    "我们对salaries_df先按年进行分组，之后应用new_pct_rank_qcut函数，并重置索引。此处我们取n=3将工资水平划分为三档。"
   ]
  },
  {
   "cell_type": "code",
   "execution_count": 107,
   "metadata": {},
   "outputs": [
    {
     "data": {
      "text/html": [
       "<div>\n",
       "<style scoped>\n",
       "    .dataframe tbody tr th:only-of-type {\n",
       "        vertical-align: middle;\n",
       "    }\n",
       "\n",
       "    .dataframe tbody tr th {\n",
       "        vertical-align: top;\n",
       "    }\n",
       "\n",
       "    .dataframe thead th {\n",
       "        text-align: right;\n",
       "    }\n",
       "</style>\n",
       "<table border=\"1\" class=\"dataframe\">\n",
       "  <thead>\n",
       "    <tr style=\"text-align: right;\">\n",
       "      <th></th>\n",
       "      <th>index</th>\n",
       "      <th>yearID</th>\n",
       "      <th>teamID</th>\n",
       "      <th>lgID</th>\n",
       "      <th>playerID</th>\n",
       "      <th>salary</th>\n",
       "      <th>levelName</th>\n",
       "    </tr>\n",
       "  </thead>\n",
       "  <tbody>\n",
       "    <tr>\n",
       "      <th>0</th>\n",
       "      <td>0</td>\n",
       "      <td>1985</td>\n",
       "      <td>ATL</td>\n",
       "      <td>NL</td>\n",
       "      <td>barkele01</td>\n",
       "      <td>870000</td>\n",
       "      <td>3</td>\n",
       "    </tr>\n",
       "    <tr>\n",
       "      <th>1</th>\n",
       "      <td>1</td>\n",
       "      <td>1985</td>\n",
       "      <td>ATL</td>\n",
       "      <td>NL</td>\n",
       "      <td>bedrost01</td>\n",
       "      <td>550000</td>\n",
       "      <td>2</td>\n",
       "    </tr>\n",
       "    <tr>\n",
       "      <th>2</th>\n",
       "      <td>2</td>\n",
       "      <td>1985</td>\n",
       "      <td>ATL</td>\n",
       "      <td>NL</td>\n",
       "      <td>benedbr01</td>\n",
       "      <td>545000</td>\n",
       "      <td>2</td>\n",
       "    </tr>\n",
       "    <tr>\n",
       "      <th>3</th>\n",
       "      <td>3</td>\n",
       "      <td>1985</td>\n",
       "      <td>ATL</td>\n",
       "      <td>NL</td>\n",
       "      <td>campri01</td>\n",
       "      <td>633333</td>\n",
       "      <td>3</td>\n",
       "    </tr>\n",
       "    <tr>\n",
       "      <th>4</th>\n",
       "      <td>4</td>\n",
       "      <td>1985</td>\n",
       "      <td>ATL</td>\n",
       "      <td>NL</td>\n",
       "      <td>ceronri01</td>\n",
       "      <td>625000</td>\n",
       "      <td>3</td>\n",
       "    </tr>\n",
       "  </tbody>\n",
       "</table>\n",
       "</div>"
      ],
      "text/plain": [
       "   index  yearID teamID lgID   playerID  salary  levelName\n",
       "0      0    1985    ATL   NL  barkele01  870000          3\n",
       "1      1    1985    ATL   NL  bedrost01  550000          2\n",
       "2      2    1985    ATL   NL  benedbr01  545000          2\n",
       "3      3    1985    ATL   NL   campri01  633333          3\n",
       "4      4    1985    ATL   NL  ceronri01  625000          3"
      ]
     },
     "execution_count": 107,
     "metadata": {},
     "output_type": "execute_result"
    }
   ],
   "source": [
    "ngrouped_data = salaries_df.groupby(['yearID']).apply(lambda df: new_pct_rank_qcut(df, 3)).reset_index() \n",
    "ngrouped_data.head()"
   ]
  },
  {
   "cell_type": "markdown",
   "metadata": {},
   "source": [
    "由上面可以看出，工资水平最高的levelName为3，自然，最低的为1，中间的为2。接下来我们分别构造三个数据集来对应这三种工资水平。"
   ]
  },
  {
   "cell_type": "code",
   "execution_count": 108,
   "metadata": {},
   "outputs": [],
   "source": [
    "# 高档\n",
    "high_salary_group = ngrouped_data[ngrouped_data['levelName'] == 3]\n",
    "# 中档\n",
    "middle_salary_group = ngrouped_data[ngrouped_data['levelName'] == 2]\n",
    "# 低档\n",
    "low_salary_group = ngrouped_data[ngrouped_data['levelName'] == 1]"
   ]
  },
  {
   "cell_type": "markdown",
   "metadata": {},
   "source": [
    "接下来，需要将上面的三个数据集与某个具体的指标数据集（这里我们选取的是进攻数据batting_df）进行联表操作，构造新的数据集。  \n",
    "先编写用来联表的函数，如下："
   ]
  },
  {
   "cell_type": "code",
   "execution_count": 109,
   "metadata": {},
   "outputs": [],
   "source": [
    "def new_combine_dfs(df1, df2, on_list):   \n",
    "   \n",
    "    return df1.merge(df2, on=on_list, how='inner' )"
   ]
  },
  {
   "cell_type": "markdown",
   "metadata": {},
   "source": [
    "联表，构造新的数据，如下："
   ]
  },
  {
   "cell_type": "code",
   "execution_count": 110,
   "metadata": {},
   "outputs": [
    {
     "name": "stdout",
     "output_type": "stream",
     "text": [
      "8488\n",
      "8457\n",
      "8194\n"
     ]
    }
   ],
   "source": [
    "# 联立条件\n",
    "on_list = ['playerID', 'yearID', 'teamID', 'lgID']\n",
    "\n",
    "# 高档工资球员的进攻数据\n",
    "high_batting_df = new_combine_dfs(high_salary_group, batting_df, on_list)\n",
    "print(len(high_batting_df))\n",
    "\n",
    "# 中档工资球员的进攻数据\n",
    "middle_batting_df = new_combine_dfs(middle_salary_group, batting_df, on_list)\n",
    "print(len(middle_batting_df))\n",
    "\n",
    "# 低档工资球员的进攻数据\n",
    "low_batting_df = new_combine_dfs(low_salary_group, batting_df, on_list)\n",
    "print(len(low_batting_df))"
   ]
  },
  {
   "cell_type": "markdown",
   "metadata": {},
   "source": [
    "定义一个新的函数，对关键的一些指标进行筛选。"
   ]
  },
  {
   "cell_type": "code",
   "execution_count": 111,
   "metadata": {},
   "outputs": [],
   "source": [
    "def key_batting_indexes(df):\n",
    "    '''\n",
    "    选择关键的进攻指标，构造新的用于DataFrame\n",
    "    '''\n",
    "    yearID = df['yearID']\n",
    "    salary = df['salary']\n",
    "    # 打数（AB）\n",
    "    ab = df['AB']\n",
    "    # 得分（R）\n",
    "    r = df['R']\n",
    "    # 安打（H）\n",
    "    h = df['H']\n",
    "    # 全垒打（HR）\n",
    "    hr = df['HR']\n",
    "    # 打点（RBI）\n",
    "    rbi = df['RBI']\n",
    "    # 保送（BB）\n",
    "    bb = df['BB']\n",
    "    # 触身球（HBP）\n",
    "    hbp = df['HBP']\n",
    "    # 牺牲打（SF）\n",
    "    sf= df['SF']\n",
    "    # 打击率（BA）\n",
    "    ba = h / ab\n",
    "    # 上垒率（OBP）\n",
    "    obp = (h + bb + hbp) / (ab + bb + hbp + sf)\n",
    "\n",
    "    ndf = df[['yearID','AB','R','HR','H','BB','HBP','SF','salary']].copy()\n",
    "    ndf.loc[:,'BA'] = ba\n",
    "    ndf['OBP'] = obp\n",
    "\n",
    "    return ndf"
   ]
  },
  {
   "cell_type": "code",
   "execution_count": 112,
   "metadata": {},
   "outputs": [],
   "source": [
    "# 高档工资球员关键指标\n",
    "high_ndf = key_batting_indexes(high_batting_df)\n",
    "# 中档档工资球员关键指标\n",
    "middle_ndf = key_batting_indexes(middle_batting_df)\n",
    "# 低档工资球员关键指标\n",
    "low_ndf = key_batting_indexes(low_batting_df)"
   ]
  },
  {
   "cell_type": "markdown",
   "metadata": {},
   "source": [
    "需要对上面新生成的球员关键指标数据进行清洗。因为这些数据里面包含了一些值为NaN的数据，这是由于计算打击率（BA）所用公式ba = h / ab 以及计算上垒率（OBP）所用公式obp = (h + bb + hbp) / (ab + bb + hbp + sf) 会出现数字零作为分母的情况。"
   ]
  },
  {
   "cell_type": "code",
   "execution_count": 113,
   "metadata": {},
   "outputs": [],
   "source": [
    "# 数据清洗\n",
    "low_ndf = low_ndf[ ~(pd.isnull(low_ndf['BA'])) & ~(pd.isnull(low_ndf['OBP']))]\n",
    "middle_ndf = middle_ndf[ ~(pd.isnull(middle_ndf['BA'])) & ~(pd.isnull(middle_ndf['OBP']))]\n",
    "high_ndf = high_ndf[ ~(pd.isnull(high_ndf['BA'])) & ~(pd.isnull(high_ndf['OBP']))]"
   ]
  },
  {
   "cell_type": "markdown",
   "metadata": {},
   "source": [
    "在上面的构造的数据集中我们构造了多个关键指标，目的是为了方便进行选择，这些指标的分析都类似。此处我们仅选择两个重要的指标打击率（BA）和上垒率（OBP）进行分析。下面是关于这两个指标的说明：  \n",
    "打击率（BA）：一名打者的安打数除以打数得到打击率。上垒率（OBP）：上垒率顾名思义就是一名打者上垒的比例。计算公式为一名打者的安打数加保送数加触身球数的和除以他的打数加保送数加触身球数加牺牲打数的和。用通俗的话说，上垒率也就是一名打者的不出局率。上垒率被认为是衡量一名打者对球队贡献最为直观的数据，因为最好的打者就是不制造过多出局数的打者。  \n",
    "接下来我们先来按年分组计算关键指标的均值，然后筛选我们需要的BA与OBP两列，并重置索引按年排序。"
   ]
  },
  {
   "cell_type": "code",
   "execution_count": 114,
   "metadata": {},
   "outputs": [
    {
     "data": {
      "text/html": [
       "<div>\n",
       "<style scoped>\n",
       "    .dataframe tbody tr th:only-of-type {\n",
       "        vertical-align: middle;\n",
       "    }\n",
       "\n",
       "    .dataframe tbody tr th {\n",
       "        vertical-align: top;\n",
       "    }\n",
       "\n",
       "    .dataframe thead th {\n",
       "        text-align: right;\n",
       "    }\n",
       "</style>\n",
       "<table border=\"1\" class=\"dataframe\">\n",
       "  <thead>\n",
       "    <tr style=\"text-align: right;\">\n",
       "      <th></th>\n",
       "      <th>yearID</th>\n",
       "      <th>BA</th>\n",
       "      <th>OBP</th>\n",
       "    </tr>\n",
       "  </thead>\n",
       "  <tbody>\n",
       "    <tr>\n",
       "      <th>0</th>\n",
       "      <td>1985</td>\n",
       "      <td>0.231821</td>\n",
       "      <td>0.293565</td>\n",
       "    </tr>\n",
       "    <tr>\n",
       "      <th>1</th>\n",
       "      <td>1986</td>\n",
       "      <td>0.240839</td>\n",
       "      <td>0.308935</td>\n",
       "    </tr>\n",
       "    <tr>\n",
       "      <th>2</th>\n",
       "      <td>1987</td>\n",
       "      <td>0.230667</td>\n",
       "      <td>0.298110</td>\n",
       "    </tr>\n",
       "    <tr>\n",
       "      <th>3</th>\n",
       "      <td>1988</td>\n",
       "      <td>0.220202</td>\n",
       "      <td>0.279070</td>\n",
       "    </tr>\n",
       "    <tr>\n",
       "      <th>4</th>\n",
       "      <td>1989</td>\n",
       "      <td>0.232376</td>\n",
       "      <td>0.290547</td>\n",
       "    </tr>\n",
       "  </tbody>\n",
       "</table>\n",
       "</div>"
      ],
      "text/plain": [
       "   yearID        BA       OBP\n",
       "0    1985  0.231821  0.293565\n",
       "1    1986  0.240839  0.308935\n",
       "2    1987  0.230667  0.298110\n",
       "3    1988  0.220202  0.279070\n",
       "4    1989  0.232376  0.290547"
      ]
     },
     "execution_count": 114,
     "metadata": {},
     "output_type": "execute_result"
    }
   ],
   "source": [
    "# 数据计算与筛选以及排序\n",
    "low_data = low_ndf.groupby(['yearID']).mean().loc[:,['BA','OBP']].reset_index().sort_values(['yearID']) \n",
    "middle_data = middle_ndf.groupby(['yearID']).mean().loc[:,['BA','OBP']].reset_index().sort_values(['yearID'])\n",
    "high_data = high_ndf.groupby(['yearID']).mean().loc[:,['BA','OBP']].reset_index().sort_values(['yearID'])\n",
    "\n",
    "# 查看数据\n",
    "high_data.head()"
   ]
  },
  {
   "cell_type": "markdown",
   "metadata": {},
   "source": [
    "构造BA指标数据集"
   ]
  },
  {
   "cell_type": "code",
   "execution_count": 115,
   "metadata": {},
   "outputs": [
    {
     "data": {
      "text/html": [
       "<div>\n",
       "<style scoped>\n",
       "    .dataframe tbody tr th:only-of-type {\n",
       "        vertical-align: middle;\n",
       "    }\n",
       "\n",
       "    .dataframe tbody tr th {\n",
       "        vertical-align: top;\n",
       "    }\n",
       "\n",
       "    .dataframe thead th {\n",
       "        text-align: right;\n",
       "    }\n",
       "</style>\n",
       "<table border=\"1\" class=\"dataframe\">\n",
       "  <thead>\n",
       "    <tr style=\"text-align: right;\">\n",
       "      <th></th>\n",
       "      <th>high_salary</th>\n",
       "      <th>low_salary</th>\n",
       "      <th>middle_salary</th>\n",
       "    </tr>\n",
       "  </thead>\n",
       "  <tbody>\n",
       "    <tr>\n",
       "      <th>1985</th>\n",
       "      <td>0.231821</td>\n",
       "      <td>0.213639</td>\n",
       "      <td>0.214328</td>\n",
       "    </tr>\n",
       "    <tr>\n",
       "      <th>1986</th>\n",
       "      <td>0.240839</td>\n",
       "      <td>0.210021</td>\n",
       "      <td>0.216145</td>\n",
       "    </tr>\n",
       "    <tr>\n",
       "      <th>1987</th>\n",
       "      <td>0.230667</td>\n",
       "      <td>0.217413</td>\n",
       "      <td>0.220950</td>\n",
       "    </tr>\n",
       "    <tr>\n",
       "      <th>1988</th>\n",
       "      <td>0.220202</td>\n",
       "      <td>0.203822</td>\n",
       "      <td>0.214991</td>\n",
       "    </tr>\n",
       "    <tr>\n",
       "      <th>1989</th>\n",
       "      <td>0.232376</td>\n",
       "      <td>0.209948</td>\n",
       "      <td>0.219959</td>\n",
       "    </tr>\n",
       "  </tbody>\n",
       "</table>\n",
       "</div>"
      ],
      "text/plain": [
       "      high_salary  low_salary  middle_salary\n",
       "1985     0.231821    0.213639       0.214328\n",
       "1986     0.240839    0.210021       0.216145\n",
       "1987     0.230667    0.217413       0.220950\n",
       "1988     0.220202    0.203822       0.214991\n",
       "1989     0.232376    0.209948       0.219959"
      ]
     },
     "execution_count": 115,
     "metadata": {},
     "output_type": "execute_result"
    }
   ],
   "source": [
    "import numpy as np\n",
    "\n",
    "ba_group = pd.DataFrame({\n",
    "    \n",
    "    'low_salary': np.array(low_data['BA']).tolist(),\n",
    "    'middle_salary': np.array(middle_data['BA']).tolist(),\n",
    "    'high_salary': np.array(high_data['BA']).tolist()\n",
    "}, index=np.array(low_data['yearID']).tolist())\n",
    "\n",
    "ba_group.head()"
   ]
  },
  {
   "cell_type": "code",
   "execution_count": 116,
   "metadata": {},
   "outputs": [
    {
     "data": {
      "text/html": [
       "<div>\n",
       "<style scoped>\n",
       "    .dataframe tbody tr th:only-of-type {\n",
       "        vertical-align: middle;\n",
       "    }\n",
       "\n",
       "    .dataframe tbody tr th {\n",
       "        vertical-align: top;\n",
       "    }\n",
       "\n",
       "    .dataframe thead th {\n",
       "        text-align: right;\n",
       "    }\n",
       "</style>\n",
       "<table border=\"1\" class=\"dataframe\">\n",
       "  <thead>\n",
       "    <tr style=\"text-align: right;\">\n",
       "      <th></th>\n",
       "      <th>high_salary</th>\n",
       "      <th>low_salary</th>\n",
       "      <th>middle_salary</th>\n",
       "    </tr>\n",
       "  </thead>\n",
       "  <tbody>\n",
       "    <tr>\n",
       "      <th>count</th>\n",
       "      <td>32.000000</td>\n",
       "      <td>32.000000</td>\n",
       "      <td>32.000000</td>\n",
       "    </tr>\n",
       "    <tr>\n",
       "      <th>mean</th>\n",
       "      <td>0.226501</td>\n",
       "      <td>0.196139</td>\n",
       "      <td>0.208993</td>\n",
       "    </tr>\n",
       "    <tr>\n",
       "      <th>std</th>\n",
       "      <td>0.013258</td>\n",
       "      <td>0.013878</td>\n",
       "      <td>0.011256</td>\n",
       "    </tr>\n",
       "    <tr>\n",
       "      <th>min</th>\n",
       "      <td>0.202210</td>\n",
       "      <td>0.173017</td>\n",
       "      <td>0.188276</td>\n",
       "    </tr>\n",
       "    <tr>\n",
       "      <th>25%</th>\n",
       "      <td>0.219983</td>\n",
       "      <td>0.184543</td>\n",
       "      <td>0.200381</td>\n",
       "    </tr>\n",
       "    <tr>\n",
       "      <th>50%</th>\n",
       "      <td>0.226330</td>\n",
       "      <td>0.197145</td>\n",
       "      <td>0.206870</td>\n",
       "    </tr>\n",
       "    <tr>\n",
       "      <th>75%</th>\n",
       "      <td>0.232967</td>\n",
       "      <td>0.206580</td>\n",
       "      <td>0.216156</td>\n",
       "    </tr>\n",
       "    <tr>\n",
       "      <th>max</th>\n",
       "      <td>0.251212</td>\n",
       "      <td>0.224959</td>\n",
       "      <td>0.228468</td>\n",
       "    </tr>\n",
       "  </tbody>\n",
       "</table>\n",
       "</div>"
      ],
      "text/plain": [
       "       high_salary  low_salary  middle_salary\n",
       "count    32.000000   32.000000      32.000000\n",
       "mean      0.226501    0.196139       0.208993\n",
       "std       0.013258    0.013878       0.011256\n",
       "min       0.202210    0.173017       0.188276\n",
       "25%       0.219983    0.184543       0.200381\n",
       "50%       0.226330    0.197145       0.206870\n",
       "75%       0.232967    0.206580       0.216156\n",
       "max       0.251212    0.224959       0.228468"
      ]
     },
     "execution_count": 116,
     "metadata": {},
     "output_type": "execute_result"
    }
   ],
   "source": [
    "# 一般性统计\n",
    "ba_group.describe()"
   ]
  },
  {
   "cell_type": "markdown",
   "metadata": {},
   "source": [
    "绘制图形，如下："
   ]
  },
  {
   "cell_type": "code",
   "execution_count": 117,
   "metadata": {},
   "outputs": [
    {
     "name": "stdout",
     "output_type": "stream",
     "text": [
      "Populating the interactive namespace from numpy and matplotlib\n"
     ]
    },
    {
     "data": {
      "text/plain": [
       "<matplotlib.axes._subplots.AxesSubplot at 0x1ae3207ad68>"
      ]
     },
     "execution_count": 117,
     "metadata": {},
     "output_type": "execute_result"
    },
    {
     "data": {
      "image/png": "[encoded data removed]",
      "text/plain": [
       "<matplotlib.figure.Figure at 0x1ae3206e940>"
      ]
     },
     "metadata": {},
     "output_type": "display_data"
    }
   ],
   "source": [
    "%pylab inline\n",
    "ba_group.plot()"
   ]
  },
  {
   "cell_type": "markdown",
   "metadata": {},
   "source": [
    "构造OBP指标数据集"
   ]
  },
  {
   "cell_type": "code",
   "execution_count": 118,
   "metadata": {},
   "outputs": [
    {
     "data": {
      "text/html": [
       "<div>\n",
       "<style scoped>\n",
       "    .dataframe tbody tr th:only-of-type {\n",
       "        vertical-align: middle;\n",
       "    }\n",
       "\n",
       "    .dataframe tbody tr th {\n",
       "        vertical-align: top;\n",
       "    }\n",
       "\n",
       "    .dataframe thead th {\n",
       "        text-align: right;\n",
       "    }\n",
       "</style>\n",
       "<table border=\"1\" class=\"dataframe\">\n",
       "  <thead>\n",
       "    <tr style=\"text-align: right;\">\n",
       "      <th></th>\n",
       "      <th>high_salary</th>\n",
       "      <th>low_salary</th>\n",
       "      <th>middle_salary</th>\n",
       "    </tr>\n",
       "  </thead>\n",
       "  <tbody>\n",
       "    <tr>\n",
       "      <th>1985</th>\n",
       "      <td>0.293565</td>\n",
       "      <td>0.268720</td>\n",
       "      <td>0.276772</td>\n",
       "    </tr>\n",
       "    <tr>\n",
       "      <th>1986</th>\n",
       "      <td>0.308935</td>\n",
       "      <td>0.274036</td>\n",
       "      <td>0.275717</td>\n",
       "    </tr>\n",
       "    <tr>\n",
       "      <th>1987</th>\n",
       "      <td>0.298110</td>\n",
       "      <td>0.267808</td>\n",
       "      <td>0.279405</td>\n",
       "    </tr>\n",
       "    <tr>\n",
       "      <th>1988</th>\n",
       "      <td>0.279070</td>\n",
       "      <td>0.257116</td>\n",
       "      <td>0.274491</td>\n",
       "    </tr>\n",
       "    <tr>\n",
       "      <th>1989</th>\n",
       "      <td>0.290547</td>\n",
       "      <td>0.264630</td>\n",
       "      <td>0.280261</td>\n",
       "    </tr>\n",
       "  </tbody>\n",
       "</table>\n",
       "</div>"
      ],
      "text/plain": [
       "      high_salary  low_salary  middle_salary\n",
       "1985     0.293565    0.268720       0.276772\n",
       "1986     0.308935    0.274036       0.275717\n",
       "1987     0.298110    0.267808       0.279405\n",
       "1988     0.279070    0.257116       0.274491\n",
       "1989     0.290547    0.264630       0.280261"
      ]
     },
     "execution_count": 118,
     "metadata": {},
     "output_type": "execute_result"
    }
   ],
   "source": [
    "obp_group = pd.DataFrame({\n",
    "    \n",
    "    'low_salary': np.array(low_data['OBP']).tolist(),\n",
    "    'middle_salary': np.array(middle_data['OBP']).tolist(),\n",
    "    'high_salary': np.array(high_data['OBP']).tolist()\n",
    "}, index=np.array(low_data['yearID']).tolist())\n",
    "\n",
    "obp_group.head()"
   ]
  },
  {
   "cell_type": "code",
   "execution_count": 119,
   "metadata": {},
   "outputs": [
    {
     "data": {
      "text/html": [
       "<div>\n",
       "<style scoped>\n",
       "    .dataframe tbody tr th:only-of-type {\n",
       "        vertical-align: middle;\n",
       "    }\n",
       "\n",
       "    .dataframe tbody tr th {\n",
       "        vertical-align: top;\n",
       "    }\n",
       "\n",
       "    .dataframe thead th {\n",
       "        text-align: right;\n",
       "    }\n",
       "</style>\n",
       "<table border=\"1\" class=\"dataframe\">\n",
       "  <thead>\n",
       "    <tr style=\"text-align: right;\">\n",
       "      <th></th>\n",
       "      <th>high_salary</th>\n",
       "      <th>low_salary</th>\n",
       "      <th>middle_salary</th>\n",
       "    </tr>\n",
       "  </thead>\n",
       "  <tbody>\n",
       "    <tr>\n",
       "      <th>count</th>\n",
       "      <td>32.000000</td>\n",
       "      <td>32.000000</td>\n",
       "      <td>32.000000</td>\n",
       "    </tr>\n",
       "    <tr>\n",
       "      <th>mean</th>\n",
       "      <td>0.286467</td>\n",
       "      <td>0.248121</td>\n",
       "      <td>0.264580</td>\n",
       "    </tr>\n",
       "    <tr>\n",
       "      <th>std</th>\n",
       "      <td>0.016373</td>\n",
       "      <td>0.016561</td>\n",
       "      <td>0.012483</td>\n",
       "    </tr>\n",
       "    <tr>\n",
       "      <th>min</th>\n",
       "      <td>0.253727</td>\n",
       "      <td>0.220456</td>\n",
       "      <td>0.246198</td>\n",
       "    </tr>\n",
       "    <tr>\n",
       "      <th>25%</th>\n",
       "      <td>0.277548</td>\n",
       "      <td>0.233666</td>\n",
       "      <td>0.255076</td>\n",
       "    </tr>\n",
       "    <tr>\n",
       "      <th>50%</th>\n",
       "      <td>0.287008</td>\n",
       "      <td>0.250037</td>\n",
       "      <td>0.259525</td>\n",
       "    </tr>\n",
       "    <tr>\n",
       "      <th>75%</th>\n",
       "      <td>0.294826</td>\n",
       "      <td>0.261849</td>\n",
       "      <td>0.275980</td>\n",
       "    </tr>\n",
       "    <tr>\n",
       "      <th>max</th>\n",
       "      <td>0.314752</td>\n",
       "      <td>0.280580</td>\n",
       "      <td>0.286613</td>\n",
       "    </tr>\n",
       "  </tbody>\n",
       "</table>\n",
       "</div>"
      ],
      "text/plain": [
       "       high_salary  low_salary  middle_salary\n",
       "count    32.000000   32.000000      32.000000\n",
       "mean      0.286467    0.248121       0.264580\n",
       "std       0.016373    0.016561       0.012483\n",
       "min       0.253727    0.220456       0.246198\n",
       "25%       0.277548    0.233666       0.255076\n",
       "50%       0.287008    0.250037       0.259525\n",
       "75%       0.294826    0.261849       0.275980\n",
       "max       0.314752    0.280580       0.286613"
      ]
     },
     "execution_count": 119,
     "metadata": {},
     "output_type": "execute_result"
    }
   ],
   "source": [
    "# 一般性统计\n",
    "obp_group.describe()"
   ]
  },
  {
   "cell_type": "markdown",
   "metadata": {},
   "source": [
    "绘图，如下："
   ]
  },
  {
   "cell_type": "code",
   "execution_count": 120,
   "metadata": {},
   "outputs": [
    {
     "name": "stdout",
     "output_type": "stream",
     "text": [
      "Populating the interactive namespace from numpy and matplotlib\n"
     ]
    },
    {
     "data": {
      "text/plain": [
       "<matplotlib.axes._subplots.AxesSubplot at 0x1ae3206ed30>"
      ]
     },
     "execution_count": 120,
     "metadata": {},
     "output_type": "execute_result"
    },
    {
     "data": {
      "image/png": "[encoded data removed]",
      "text/plain": [
       "<matplotlib.figure.Figure at 0x1ae31cdd550>"
      ]
     },
     "metadata": {},
     "output_type": "display_data"
    }
   ],
   "source": [
    "%pylab inline\n",
    "obp_group.plot()"
   ]
  },
  {
   "cell_type": "markdown",
   "metadata": {},
   "source": [
    "无论是从上面的描述行统计，还是从上面绘制的图形，都可以看出，同一年度工资水平高的球员的关键进攻指标要优于同一年度工资水平低的球员。此外，也可以看出，这两个绘制的图形形状类似，我们不妨计算一下同一年度工资水平高的球员的这两个指标的相关系数来看一下。"
   ]
  },
  {
   "cell_type": "code",
   "execution_count": 121,
   "metadata": {},
   "outputs": [
    {
     "name": "stdout",
     "output_type": "stream",
     "text": [
      "0.9271063143381124\n"
     ]
    }
   ],
   "source": [
    "print(correlation(high_ndf['OBP'], high_ndf['BA']))"
   ]
  },
  {
   "cell_type": "markdown",
   "metadata": {},
   "source": [
    "计算的结果表明这两个指标是高度相关的。"
   ]
  },
  {
   "cell_type": "markdown",
   "metadata": {},
   "source": [
    "## 结论"
   ]
  },
  {
   "cell_type": "markdown",
   "metadata": {},
   "source": [
    "本文通过相关系数的计算分析了团队的年度排名和一些具有的指标的相关性，发现团队的年度排名（Rank）与胜利场数（W）、胜率（BL）具有明显的相关性，与得分情况（R）、全垒打（HR）救援点（SV）、防守占比（FP）、防御率（ERA）等具有一定的相关性。本文分析了球员的年度平均工资水平，发现球员的工资水平按年呈现一个日益增长的趋势。还分析了同一年度不同工资水平的棒球球员的一些关键衡量指标，发现同一年度工资水平高的球员的关键进攻指标要优于同一年度工资水平低的球员。  \n",
    "当然，受一些因素的影响，分析结果在展示时可能会有一些限制；分析也不能表明或暗示一个因素变化必然会导致另一个因素发生变化；此外，一些结论也有可能具有时效性。特此说明。"
   ]
  },
  {
   "cell_type": "code",
   "execution_count": null,
   "metadata": {},
   "outputs": [],
   "source": []
  }
 ],
 "metadata": {
  "kernelspec": {
   "display_name": "Python 3",
   "language": "python",
   "name": "python3"
  },
  "language_info": {
   "codemirror_mode": {
    "name": "ipython",
    "version": 3
   },
   "file_extension": ".py",
   "mimetype": "text/x-python",
   "name": "python",
   "nbconvert_exporter": "python",
   "pygments_lexer": "ipython3",
   "version": "3.6.4"
  }
 },
 "nbformat": 4,
 "nbformat_minor": 2
}
